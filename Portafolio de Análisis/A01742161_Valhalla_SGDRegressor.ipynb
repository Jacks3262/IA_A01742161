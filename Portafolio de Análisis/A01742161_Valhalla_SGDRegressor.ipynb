{
  "nbformat": 4,
  "nbformat_minor": 0,
  "metadata": {
    "colab": {
      "provenance": []
    },
    "kernelspec": {
      "name": "python3",
      "display_name": "Python 3"
    },
    "language_info": {
      "name": "python"
    }
  },
  "cells": [
    {
      "cell_type": "markdown",
      "source": [
        "# **Challenge Valhalla**\n",
        "**Rogelio Lizárraga Escobar A01742161**"
      ],
      "metadata": {
        "id": "AzVkuY-m1VvL"
      }
    },
    {
      "cell_type": "markdown",
      "source": [
        "## Importamos las librerías"
      ],
      "metadata": {
        "id": "tFhoX5FBR0W8"
      }
    },
    {
      "cell_type": "code",
      "source": [
        "from sklearn.linear_model import SGDRegressor\n",
        "import random\n",
        "from sklearn.preprocessing import StandardScaler\n",
        "from sklearn.pipeline import make_pipeline\n",
        "from sklearn.model_selection import train_test_split, GridSearchCV\n",
        "from sklearn.metrics import mean_squared_error, r2_score"
      ],
      "metadata": {
        "id": "TldmincwRyas"
      },
      "execution_count": 150,
      "outputs": []
    },
    {
      "cell_type": "code",
      "source": [
        "import numpy as np\n",
        "import pandas as pd\n",
        "from sklearn.linear_model import Ridge, Lasso, ElasticNet\n",
        "from sklearn.model_selection import GridSearchCV, train_test_split\n",
        "from sklearn.metrics import mean_squared_error, r2_score\n",
        "import matplotlib.pyplot as plt\n",
        "import seaborn as sns\n",
        "from google.colab import drive\n",
        "drive.mount('/content/gdrive')\n",
        "data = pd.read_csv('/content/gdrive/MyDrive/Valhalla23.csv')\n"
      ],
      "metadata": {
        "colab": {
          "base_uri": "https://localhost:8080/"
        },
        "id": "PWBLS6wuUL7R",
        "outputId": "d2aba284-f784-47d2-c08f-0dfb8d6be319"
      },
      "execution_count": 151,
      "outputs": [
        {
          "output_type": "stream",
          "name": "stdout",
          "text": [
            "Drive already mounted at /content/gdrive; to attempt to forcibly remount, call drive.mount(\"/content/gdrive\", force_remount=True).\n"
          ]
        }
      ]
    },
    {
      "cell_type": "code",
      "source": [
        "seed = 2161"
      ],
      "metadata": {
        "id": "zC8EQRAm4Tqa"
      },
      "execution_count": 152,
      "outputs": []
    },
    {
      "cell_type": "markdown",
      "source": [
        "# Hacemos un split de 40% train, 40% valid y 20% test y estandarizamos los datos"
      ],
      "metadata": {
        "id": "UlXZmIFelKjr"
      }
    },
    {
      "cell_type": "code",
      "source": [
        "df = pd.DataFrame(data)\n",
        "y = df[['Valks']].to_numpy()\n",
        "X = df[['Celsius']].to_numpy()\n",
        "scaler = StandardScaler()\n",
        "X_scaled = scaler.fit_transform(X)\n",
        "\n",
        "X_tout, X_test, y_tout, y_test = train_test_split(X_scaled, y, test_size=0.2, random_state=seed)\n",
        "X_train, X_valid, y_train, y_valid = train_test_split(X_tout, y_tout, test_size=0.5, random_state=seed)\n",
        "sgd = SGDRegressor(learning_rate='constant', eta0=1e-4, max_iter=1_000_000, random_state=seed)\n"
      ],
      "metadata": {
        "id": "NZrI5d-vUJa2"
      },
      "execution_count": 153,
      "outputs": []
    },
    {
      "cell_type": "markdown",
      "source": [
        "## Realizaremos un GridSearch para encontrar los mejores parámetros para SGDRegressor"
      ],
      "metadata": {
        "id": "z45A3pQXSKeC"
      }
    },
    {
      "cell_type": "code",
      "source": [
        "hyper_grid_sgd = {\n",
        "    'sgdregressor__penalty': ['l2', 'l1', 'elasticnet'],\n",
        "    'sgdregressor__l1_ratio': np.linspace(0, 1, 10)\n",
        "}\n",
        "\n",
        "pipeline = make_pipeline(sgd)\n",
        "sgd_grid = GridSearchCV(pipeline, hyper_grid_sgd, cv=3, scoring='neg_mean_squared_error', n_jobs=-1)\n",
        "sgd_grid.fit(X_train, y_train.ravel())\n",
        "\n",
        "best_penalty_sgd = sgd_grid.best_params_['sgdregressor__penalty']\n",
        "best_l1_ratio_sgd = sgd_grid.best_params_.get('sgdregressor__l1_ratio', None)\n",
        "final_sgd = SGDRegressor(alpha=1e-4, penalty=best_penalty_sgd, l1_ratio=best_l1_ratio_sgd, max_iter=1000000)\n",
        "final_pipeline = make_pipeline(final_sgd)\n",
        "final_pipeline.fit(X_train, y_train.ravel())"
      ],
      "metadata": {
        "id": "LhVPKFkBSLok",
        "colab": {
          "base_uri": "https://localhost:8080/",
          "height": 112
        },
        "outputId": "7eaa50c0-9483-4115-99e9-3a3f8513408e"
      },
      "execution_count": 154,
      "outputs": [
        {
          "output_type": "execute_result",
          "data": {
            "text/plain": [
              "Pipeline(steps=[('sgdregressor',\n",
              "                 SGDRegressor(l1_ratio=0.3333333333333333, max_iter=1000000,\n",
              "                              penalty='elasticnet'))])"
            ],
            "text/html": [
              "<style>#sk-container-id-9 {color: black;}#sk-container-id-9 pre{padding: 0;}#sk-container-id-9 div.sk-toggleable {background-color: white;}#sk-container-id-9 label.sk-toggleable__label {cursor: pointer;display: block;width: 100%;margin-bottom: 0;padding: 0.3em;box-sizing: border-box;text-align: center;}#sk-container-id-9 label.sk-toggleable__label-arrow:before {content: \"▸\";float: left;margin-right: 0.25em;color: #696969;}#sk-container-id-9 label.sk-toggleable__label-arrow:hover:before {color: black;}#sk-container-id-9 div.sk-estimator:hover label.sk-toggleable__label-arrow:before {color: black;}#sk-container-id-9 div.sk-toggleable__content {max-height: 0;max-width: 0;overflow: hidden;text-align: left;background-color: #f0f8ff;}#sk-container-id-9 div.sk-toggleable__content pre {margin: 0.2em;color: black;border-radius: 0.25em;background-color: #f0f8ff;}#sk-container-id-9 input.sk-toggleable__control:checked~div.sk-toggleable__content {max-height: 200px;max-width: 100%;overflow: auto;}#sk-container-id-9 input.sk-toggleable__control:checked~label.sk-toggleable__label-arrow:before {content: \"▾\";}#sk-container-id-9 div.sk-estimator input.sk-toggleable__control:checked~label.sk-toggleable__label {background-color: #d4ebff;}#sk-container-id-9 div.sk-label input.sk-toggleable__control:checked~label.sk-toggleable__label {background-color: #d4ebff;}#sk-container-id-9 input.sk-hidden--visually {border: 0;clip: rect(1px 1px 1px 1px);clip: rect(1px, 1px, 1px, 1px);height: 1px;margin: -1px;overflow: hidden;padding: 0;position: absolute;width: 1px;}#sk-container-id-9 div.sk-estimator {font-family: monospace;background-color: #f0f8ff;border: 1px dotted black;border-radius: 0.25em;box-sizing: border-box;margin-bottom: 0.5em;}#sk-container-id-9 div.sk-estimator:hover {background-color: #d4ebff;}#sk-container-id-9 div.sk-parallel-item::after {content: \"\";width: 100%;border-bottom: 1px solid gray;flex-grow: 1;}#sk-container-id-9 div.sk-label:hover label.sk-toggleable__label {background-color: #d4ebff;}#sk-container-id-9 div.sk-serial::before {content: \"\";position: absolute;border-left: 1px solid gray;box-sizing: border-box;top: 0;bottom: 0;left: 50%;z-index: 0;}#sk-container-id-9 div.sk-serial {display: flex;flex-direction: column;align-items: center;background-color: white;padding-right: 0.2em;padding-left: 0.2em;position: relative;}#sk-container-id-9 div.sk-item {position: relative;z-index: 1;}#sk-container-id-9 div.sk-parallel {display: flex;align-items: stretch;justify-content: center;background-color: white;position: relative;}#sk-container-id-9 div.sk-item::before, #sk-container-id-9 div.sk-parallel-item::before {content: \"\";position: absolute;border-left: 1px solid gray;box-sizing: border-box;top: 0;bottom: 0;left: 50%;z-index: -1;}#sk-container-id-9 div.sk-parallel-item {display: flex;flex-direction: column;z-index: 1;position: relative;background-color: white;}#sk-container-id-9 div.sk-parallel-item:first-child::after {align-self: flex-end;width: 50%;}#sk-container-id-9 div.sk-parallel-item:last-child::after {align-self: flex-start;width: 50%;}#sk-container-id-9 div.sk-parallel-item:only-child::after {width: 0;}#sk-container-id-9 div.sk-dashed-wrapped {border: 1px dashed gray;margin: 0 0.4em 0.5em 0.4em;box-sizing: border-box;padding-bottom: 0.4em;background-color: white;}#sk-container-id-9 div.sk-label label {font-family: monospace;font-weight: bold;display: inline-block;line-height: 1.2em;}#sk-container-id-9 div.sk-label-container {text-align: center;}#sk-container-id-9 div.sk-container {/* jupyter's `normalize.less` sets `[hidden] { display: none; }` but bootstrap.min.css set `[hidden] { display: none !important; }` so we also need the `!important` here to be able to override the default hidden behavior on the sphinx rendered scikit-learn.org. See: https://github.com/scikit-learn/scikit-learn/issues/21755 */display: inline-block !important;position: relative;}#sk-container-id-9 div.sk-text-repr-fallback {display: none;}</style><div id=\"sk-container-id-9\" class=\"sk-top-container\"><div class=\"sk-text-repr-fallback\"><pre>Pipeline(steps=[(&#x27;sgdregressor&#x27;,\n",
              "                 SGDRegressor(l1_ratio=0.3333333333333333, max_iter=1000000,\n",
              "                              penalty=&#x27;elasticnet&#x27;))])</pre><b>In a Jupyter environment, please rerun this cell to show the HTML representation or trust the notebook. <br />On GitHub, the HTML representation is unable to render, please try loading this page with nbviewer.org.</b></div><div class=\"sk-container\" hidden><div class=\"sk-item sk-dashed-wrapped\"><div class=\"sk-label-container\"><div class=\"sk-label sk-toggleable\"><input class=\"sk-toggleable__control sk-hidden--visually\" id=\"sk-estimator-id-17\" type=\"checkbox\" ><label for=\"sk-estimator-id-17\" class=\"sk-toggleable__label sk-toggleable__label-arrow\">Pipeline</label><div class=\"sk-toggleable__content\"><pre>Pipeline(steps=[(&#x27;sgdregressor&#x27;,\n",
              "                 SGDRegressor(l1_ratio=0.3333333333333333, max_iter=1000000,\n",
              "                              penalty=&#x27;elasticnet&#x27;))])</pre></div></div></div><div class=\"sk-serial\"><div class=\"sk-item\"><div class=\"sk-estimator sk-toggleable\"><input class=\"sk-toggleable__control sk-hidden--visually\" id=\"sk-estimator-id-18\" type=\"checkbox\" ><label for=\"sk-estimator-id-18\" class=\"sk-toggleable__label sk-toggleable__label-arrow\">SGDRegressor</label><div class=\"sk-toggleable__content\"><pre>SGDRegressor(l1_ratio=0.3333333333333333, max_iter=1000000,\n",
              "             penalty=&#x27;elasticnet&#x27;)</pre></div></div></div></div></div></div></div>"
            ]
          },
          "metadata": {},
          "execution_count": 154
        }
      ]
    },
    {
      "cell_type": "code",
      "source": [
        "# Ajustar el modelo con los mejores hiperparámetros\n",
        "final_pipeline.fit(X_train, y_train.ravel())\n",
        "\n",
        "# MSE en Entrenamiento\n",
        "sgd_train_pred = final_pipeline.predict(X_train)\n",
        "sgd_train_mse = round(mean_squared_error(y_train, sgd_train_pred), 4)\n",
        "\n",
        "# MSE en Validación (GridSearchCV)\n",
        "mse_scores = -sgd_grid.cv_results_['mean_test_score']\n",
        "mse_validation = round(mse_scores[sgd_grid.best_index_], 4)\n",
        "\n",
        "# MSE en Prueba\n",
        "sgd_pred = final_pipeline.predict(X_test)\n",
        "sgd_mse = round(mean_squared_error(y_test, sgd_pred), 4)\n",
        "\n",
        "\n",
        "\n",
        "\n",
        "sgd_r2 = round(r2_score(y_test, sgd_pred), 4)\n",
        "\n",
        "print(\"---------------------------------------------------------\")\n",
        "print(f\"MSE Entrenamiento SGDRegressor: {sgd_train_mse}\")\n",
        "print(f\"MSE Validación SGDRegressor: {mse_validation}\")\n",
        "print(f\"MSE Prueba SGDRegressor: {sgd_mse}\")\n",
        "print(f\"Coeficiente de determinación de SGDRegressor (R^2): {sgd_r2}\")"
      ],
      "metadata": {
        "colab": {
          "base_uri": "https://localhost:8080/"
        },
        "id": "E2t6tgeezulf",
        "outputId": "7fd58c0a-1729-460d-d936-2c2db21d8354"
      },
      "execution_count": 155,
      "outputs": [
        {
          "output_type": "stream",
          "name": "stdout",
          "text": [
            "---------------------------------------------------------\n",
            "MSE Entrenamiento SGDRegressor: 36.8115\n",
            "MSE Validación SGDRegressor: 40.1884\n",
            "MSE Prueba SGDRegressor: 38.7197\n",
            "Coeficiente de determinación de SGDRegressor (R^2): 0.996\n"
          ]
        }
      ]
    },
    {
      "cell_type": "code",
      "source": [
        "plt.figure(figsize=(7, 6))\n",
        "plt.scatter(y_test, sgd_pred, alpha=0.9, color='pink')\n",
        "plt.plot([y_test.min()-10, y_test.max()+10], [y_test.min()-10, y_test.max()+10], 'b--')\n",
        "plt.title('SGDRegressor: preds vs valores reales')\n",
        "plt.xlabel('Valores reales')\n",
        "plt.ylabel('Predicciones')\n",
        "plt.tight_layout()\n",
        "plt.show()\n"
      ],
      "metadata": {
        "colab": {
          "base_uri": "https://localhost:8080/",
          "height": 627
        },
        "id": "sDRgg-S8XS_n",
        "outputId": "85acf042-c7cb-4e1a-ea84-5ee65e415b1b"
      },
      "execution_count": 156,
      "outputs": [
        {
          "output_type": "display_data",
          "data": {
            "text/plain": [
              "<Figure size 700x600 with 1 Axes>"
            ],
            "image/png": "[encoded data removed]"
          },
          "metadata": {}
        }
      ]
    },
    {
      "cell_type": "markdown",
      "source": [
        "# Generamos la lista de los 20 elementos"
      ],
      "metadata": {
        "id": "TtNdwLFIVXH5"
      }
    },
    {
      "cell_type": "code",
      "source": [
        "random.seed(seed)\n",
        "sizes = random.sample(range(3, 40), 19, )\n",
        "sizes.append(2)\n",
        "sizes.sort()\n",
        "print(sizes)\n"
      ],
      "metadata": {
        "colab": {
          "base_uri": "https://localhost:8080/"
        },
        "id": "3Bb578MJVU6m",
        "outputId": "5a097b80-9b04-46a3-f39b-dd897c71b1dd"
      },
      "execution_count": 157,
      "outputs": [
        {
          "output_type": "stream",
          "name": "stdout",
          "text": [
            "[2, 3, 4, 8, 9, 10, 11, 12, 17, 19, 20, 21, 23, 25, 27, 30, 32, 35, 36, 37]\n"
          ]
        }
      ]
    },
    {
      "cell_type": "markdown",
      "source": [
        "# Entrenamiendo de las muestras"
      ],
      "metadata": {
        "id": "8KUPlHZ-Y3Ez"
      }
    },
    {
      "cell_type": "code",
      "source": [
        "from sklearn.utils import resample\n",
        "from sklearn.metrics import mean_squared_error\n",
        "\n",
        "train_errors = []\n",
        "val_errors = []\n",
        "\n",
        "for size in sizes:\n",
        "    train_mse_list = []\n",
        "    val_mse_list = []\n",
        "\n",
        "    for _ in range(100):\n",
        "        X_train_sub, y_train_sub = resample(X_train, y_train, n_samples=size, random_state=seed)\n",
        "        final_sgd.fit(X_train_sub, y_train_sub.ravel())\n",
        "        train_pred = final_sgd.predict(X_train_sub)\n",
        "        train_mse = mean_squared_error(y_train_sub, train_pred)\n",
        "        val_pred = final_sgd.predict(X_valid)\n",
        "        val_mse = mean_squared_error(y_valid, val_pred)\n",
        "        train_mse_list.append(train_mse)\n",
        "        val_mse_list.append(val_mse)\n",
        "    avg_train_mse = np.mean(train_mse_list)\n",
        "    avg_val_mse = np.mean(val_mse_list)\n",
        "\n",
        "    train_errors.append(avg_train_mse)\n",
        "    val_errors.append(avg_val_mse)\n"
      ],
      "metadata": {
        "id": "7KRACQIQWG30"
      },
      "execution_count": 158,
      "outputs": []
    },
    {
      "cell_type": "code",
      "source": [
        "train_errors"
      ],
      "metadata": {
        "colab": {
          "base_uri": "https://localhost:8080/"
        },
        "id": "WvZAIdbdukn1",
        "outputId": "6b6a690d-d9ab-4c4c-fdb9-719bb10d345b"
      },
      "execution_count": 159,
      "outputs": [
        {
          "output_type": "execute_result",
          "data": {
            "text/plain": [
              "[0.40673745039219367,\n",
              " 3.579448530954776,\n",
              " 2.8627665945152625,\n",
              " 3.276754121016856,\n",
              " 3.047180146429217,\n",
              " 3.470758405298874,\n",
              " 3.626431483335169,\n",
              " 3.372031132089624,\n",
              " 20.798988674068195,\n",
              " 18.663850453229404,\n",
              " 18.083635939265875,\n",
              " 17.264884140351878,\n",
              " 16.556036357192156,\n",
              " 28.499567287335477,\n",
              " 26.764981759615484,\n",
              " 24.81440941286331,\n",
              " 25.206225805221116,\n",
              " 23.358870702196974,\n",
              " 23.02954367739117,\n",
              " 22.64566491591796]"
            ]
          },
          "metadata": {},
          "execution_count": 159
        }
      ]
    },
    {
      "cell_type": "code",
      "source": [
        "final_sgd.fit(X_train, y_train.ravel()) # Entrenamos el modelo del conjunto total\n",
        "\n",
        "train_pred_full = final_sgd.predict(X_train) # Calculamos ambos errores de línea base\n",
        "val_pred_full = final_sgd.predict(X_valid)\n",
        "\n",
        "train_mse_base = mean_squared_error(y_train, train_pred_full)\n",
        "val_mse_base = mean_squared_error(y_valid, val_pred_full)\n",
        "train_errors.append(train_mse_base)\n",
        "val_errors.append(val_mse_base)\n",
        "sizes = np.append(sizes, X_train.shape[0])\n"
      ],
      "metadata": {
        "id": "ALRqQCF5WwmG"
      },
      "execution_count": 160,
      "outputs": []
    },
    {
      "cell_type": "code",
      "source": [
        "import matplotlib.pyplot as plt\n",
        "\n",
        "plt.figure(figsize=(10, 6))\n",
        "plt.plot(sizes, train_errors, marker='o', label='Error de entrenamiento')\n",
        "plt.plot(sizes, val_errors, marker='o', label='Error de validación')\n",
        "plt.xlabel('Tamaño del subconjuto')\n",
        "plt.ylabel('Error cuadrático medio')\n",
        "plt.title('Evolución del error con el tamaño del subconjunto')\n",
        "plt.legend()\n",
        "plt.grid(True)\n",
        "plt.show()\n"
      ],
      "metadata": {
        "colab": {
          "base_uri": "https://localhost:8080/",
          "height": 585
        },
        "id": "oDQ_YmaZWytg",
        "outputId": "bc8458b9-f856-47cd-c466-695403283c34"
      },
      "execution_count": 161,
      "outputs": [
        {
          "output_type": "display_data",
          "data": {
            "text/plain": [
              "<Figure size 1000x600 with 1 Axes>"
            ],
            "image/png": "[encoded data removed]"
          },
          "metadata": {}
        }
      ]
    },
    {
      "cell_type": "code",
      "source": [
        "train_errors[1]"
      ],
      "metadata": {
        "colab": {
          "base_uri": "https://localhost:8080/"
        },
        "id": "e8LffoP9s5LO",
        "outputId": "94ecaf0a-2637-49c8-9370-8764eb1dc98f"
      },
      "execution_count": 162,
      "outputs": [
        {
          "output_type": "execute_result",
          "data": {
            "text/plain": [
              "3.579448530954776"
            ]
          },
          "metadata": {},
          "execution_count": 162
        }
      ]
    },
    {
      "cell_type": "markdown",
      "source": [],
      "metadata": {
        "id": "H9nBicnCmGMC"
      }
    },
    {
      "cell_type": "code",
      "source": [
        "train_errors[-1]"
      ],
      "metadata": {
        "colab": {
          "base_uri": "https://localhost:8080/"
        },
        "id": "vHrw0s3Ss8BQ",
        "outputId": "1521f7e9-2d23-4fa5-c1c2-9e2012eb4e28"
      },
      "execution_count": 163,
      "outputs": [
        {
          "output_type": "execute_result",
          "data": {
            "text/plain": [
              "36.81127972718592"
            ]
          },
          "metadata": {},
          "execution_count": 163
        }
      ]
    },
    {
      "cell_type": "markdown",
      "source": [],
      "metadata": {
        "id": "jLHoj35gs_Ta"
      }
    },
    {
      "cell_type": "code",
      "source": [
        "x = min(val_errors)\n",
        "y = 0\n",
        "for i in range (0, len(sizes)):\n",
        "  if val_errors[i] == x:\n",
        "    print(f'Error de validación mínimo: {x} en la posición {i}')\n",
        "    y = sizes[i]"
      ],
      "metadata": {
        "colab": {
          "base_uri": "https://localhost:8080/"
        },
        "id": "8hi2ohbSl_px",
        "outputId": "8d10ae74-db9f-42f2-ac2d-c1034e5f6832"
      },
      "execution_count": 164,
      "outputs": [
        {
          "output_type": "stream",
          "name": "stdout",
          "text": [
            "Error de validación mínimo: 56.71823638913995 en la posición 2\n"
          ]
        }
      ]
    },
    {
      "cell_type": "code",
      "source": [
        "y"
      ],
      "metadata": {
        "colab": {
          "base_uri": "https://localhost:8080/"
        },
        "id": "CyFwr2inssj5",
        "outputId": "0995f32f-2ab0-45dc-c79f-dfb9225d28a8"
      },
      "execution_count": 165,
      "outputs": [
        {
          "output_type": "execute_result",
          "data": {
            "text/plain": [
              "4"
            ]
          },
          "metadata": {},
          "execution_count": 165
        }
      ]
    },
    {
      "cell_type": "markdown",
      "source": [
        "Observamos cómo el error de entrenamiento va aumentando conforme el tamaño de la muestra cambia. Por ejemplo, para n=2, el error es 3.58 y para n=40 el error es 36.81.\n",
        "Esto es debido a que el MSE depende de la cantidad de datos que haya. Es decir, entre más datos, mayor el error.\n",
        "\n",
        "Por otro lado, el conjunto de validación mantiene prácticamente el mismo error para todos los datos, siendo mínimo el de la n = 4, con valor de $\\approx$ 56.72. Sin embargo, esto es malo, pues el modelo está sobreajustado y no logra generalizar bien en el set de validación.\n",
        "\n",
        "El modelo de n= 2 tiene un sesgo bajo, al ajustarse al set de entrenamiento, pero una varianza alta, pues no generaliza bien en el set de validación.\n",
        "\n",
        "Por otro lado, el modelo de n= 40 tiene un sesgo más alto que n=2, pues tiene un error mayor en el set de entrenamiento, pero una varianza menor, pues hay menor brecha entre el conjunto de validación y entrenamiento.\n",
        "\n"
      ],
      "metadata": {
        "id": "5wrj9RuruawU"
      }
    },
    {
      "cell_type": "markdown",
      "source": [
        "Por lo anterior, escogeremos el modelo de n=40, pues se comporta de manera más similar en el entrenamiento y validación"
      ],
      "metadata": {
        "id": "jpakXn40y9Gf"
      }
    },
    {
      "cell_type": "code",
      "source": [
        "optimal_size = 40\n",
        "\n",
        "X_train_opt, y_train_opt = resample(X_train, y_train, n_samples=optimal_size, random_state=seed)\n",
        "final_sgd.fit(X_train_opt, y_train_opt.ravel())\n",
        "train_pred_opt = final_sgd.predict(X_train_opt)\n",
        "val_pred_opt = final_sgd.predict(X_valid)\n",
        "test_pred_opt = final_sgd.predict(X_test)\n",
        "\n",
        "train_mse_opt = mean_squared_error(y_train_opt, train_pred_opt)\n",
        "val_mse_opt = mean_squared_error(y_valid, val_pred_opt)\n",
        "test_mse_opt = mean_squared_error(y_test, test_pred_opt)\n",
        "\n",
        "print(f\"Error cuadrático medio en entrenamiento (tamaño {optimal_size}): {train_mse_opt}\")\n",
        "print(f\"Error cuadrático medio en prueba: {test_mse_opt}\")\n"
      ],
      "metadata": {
        "colab": {
          "base_uri": "https://localhost:8080/"
        },
        "id": "aEVeadyxW3-e",
        "outputId": "19e267a6-2fb7-485c-c970-4d0f857fbd06"
      },
      "execution_count": 166,
      "outputs": [
        {
          "output_type": "stream",
          "name": "stdout",
          "text": [
            "Error cuadrático medio en entrenamiento (tamaño 40): 26.0552004827298\n",
            "Error cuadrático medio en prueba: 35.34225877864174\n"
          ]
        }
      ]
    },
    {
      "cell_type": "code",
      "source": [
        "\n",
        "print(\"---------------------------------------------------------\")\n",
        "print(f\"MSE Entrenamiento SGDRegressor: {sgd_train_mse}\")\n",
        "print(f\"MSE Prueba SGDRegressor: {sgd_mse}\")"
      ],
      "metadata": {
        "colab": {
          "base_uri": "https://localhost:8080/"
        },
        "id": "L_F_a9nC0fUr",
        "outputId": "4585f073-7458-4644-994f-74a9e0ff4486"
      },
      "execution_count": 167,
      "outputs": [
        {
          "output_type": "stream",
          "name": "stdout",
          "text": [
            "---------------------------------------------------------\n",
            "MSE Entrenamiento SGDRegressor: 36.8115\n",
            "MSE Prueba SGDRegressor: 38.7197\n"
          ]
        }
      ]
    },
    {
      "cell_type": "markdown",
      "source": [
        "Observamos cómo el MSE disminuyó en la prueba y en el entrenamiento. Esto indica que el modelo se mejor al entrenamiento y bien a la prueba, por lo que no hubo overfitting ni underfitting."
      ],
      "metadata": {
        "id": "ywduJKCe0kaQ"
      }
    },
    {
      "cell_type": "markdown",
      "source": [
        "# Conclusión"
      ],
      "metadata": {
        "id": "icXYlDXR1cvt"
      }
    },
    {
      "cell_type": "markdown",
      "source": [
        "Al entrenar el modelo SGDRegressor con muestras de n = 40 nos damos cuenta que el MSE en la prueba es menor que con todos los datos. Esto indica que el modelo generaliza mejor cuando se usa una muestra. Esto es debido a que SGDRegressor tiende a trabajar mejor con tamaños más pequeños y/o menor cantidad de ruido.\n",
        "\n",
        "Por lo anterior, se permitió que el modelo capturara patrones generales sin sobreajustarse a los detalles y ruido presente en todo el conjunto de datos."
      ],
      "metadata": {
        "id": "36v0S_i11ghC"
      }
    }
  ]
}